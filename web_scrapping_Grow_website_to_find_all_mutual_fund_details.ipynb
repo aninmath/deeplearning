{
  "nbformat": 4,
  "nbformat_minor": 0,
  "metadata": {
    "colab": {
      "provenance": [],
      "authorship_tag": "ABX9TyMORnvBB2CqIS6+y3KYKKEZ",
      "include_colab_link": true
    },
    "kernelspec": {
      "name": "python3",
      "display_name": "Python 3"
    },
    "language_info": {
      "name": "python"
    }
  },
  "cells": [
    {
      "cell_type": "markdown",
      "metadata": {
        "id": "view-in-github",
        "colab_type": "text"
      },
      "source": [
        "<a href=\"https://colab.research.google.com/github/aninmath/deeplearning/blob/main/web_scrapping_Grow_website_to_find_all_mutual_fund_details.ipynb\" target=\"_parent\"><img src=\"https://colab.research.google.com/assets/colab-badge.svg\" alt=\"Open In Colab\"/></a>"
      ]
    },
    {
      "cell_type": "code",
      "execution_count": null,
      "metadata": {
        "id": "VqCy8N9DCeHN"
      },
      "outputs": [],
      "source": [
        "\n",
        "\n",
        "import pandas as pd\n",
        "import requests\n",
        "from bs4 import BeautifulSoup\n",
        "import numpy as np\n"
      ]
    },
    {
      "cell_type": "markdown",
      "source": [
        "## inspecting page 1 , with funds, return...go to page and try inspect to find pattern"
      ],
      "metadata": {
        "id": "rOKV7Yb5P8P6"
      }
    },
    {
      "cell_type": "code",
      "source": [
        "webpage=requests.get('https://groww.in/mutual-funds/filter?q=&fundSize=&sortBy=3').text\n"
      ],
      "metadata": {
        "id": "VB5_DaFcDugy"
      },
      "execution_count": null,
      "outputs": []
    },
    {
      "cell_type": "code",
      "source": [
        "soup=BeautifulSoup(webpage,'lxml')"
      ],
      "metadata": {
        "id": "Kgoj5QIhDuly"
      },
      "execution_count": null,
      "outputs": []
    },
    {
      "cell_type": "code",
      "source": [
        "fund = soup.find_all('tr',class_='f22Card')"
      ],
      "metadata": {
        "id": "qvFWRKh4Duq8"
      },
      "execution_count": null,
      "outputs": []
    },
    {
      "cell_type": "code",
      "source": [
        "len(fund)"
      ],
      "metadata": {
        "colab": {
          "base_uri": "https://localhost:8080/"
        },
        "id": "MrHZcLZeRTw0",
        "outputId": "4fc331ae-7219-4647-87f0-4de4de9c5d34"
      },
      "execution_count": null,
      "outputs": [
        {
          "output_type": "execute_result",
          "data": {
            "text/plain": [
              "15"
            ]
          },
          "metadata": {},
          "execution_count": 62
        }
      ]
    },
    {
      "cell_type": "code",
      "source": [
        "fund[1].text.strip()"
      ],
      "metadata": {
        "colab": {
          "base_uri": "https://localhost:8080/",
          "height": 35
        },
        "id": "tfHXs3lyDutJ",
        "outputId": "df06cf6d-a2c0-4ed3-8a14-536fa7ca44b5"
      },
      "execution_count": null,
      "outputs": [
        {
          "output_type": "execute_result",
          "data": {
            "text/plain": [
              "'Parag Parikh Flexi Cap Fund Direct GrowthVery High RiskEquity516.01%1Y23.73%3Y29.38%5Y'"
            ],
            "application/vnd.google.colaboratory.intrinsic+json": {
              "type": "string"
            }
          },
          "metadata": {},
          "execution_count": 63
        }
      ]
    },
    {
      "cell_type": "code",
      "source": [
        "#name\n",
        "\n",
        "fund[1].find('div',class_='contentPrimary').text.strip()"
      ],
      "metadata": {
        "colab": {
          "base_uri": "https://localhost:8080/",
          "height": 35
        },
        "id": "K0qV51G2IqYw",
        "outputId": "f2cc8178-c957-491f-9d75-8fc8fe4038fc"
      },
      "execution_count": null,
      "outputs": [
        {
          "output_type": "execute_result",
          "data": {
            "text/plain": [
              "'Parag Parikh Flexi Cap Fund Direct Growth'"
            ],
            "application/vnd.google.colaboratory.intrinsic+json": {
              "type": "string"
            }
          },
          "metadata": {},
          "execution_count": 75
        }
      ]
    },
    {
      "cell_type": "code",
      "source": [
        "#risk\n",
        "\n",
        "fund[1].find_all ('div',class_='contentSecondary f22Ls2 contentTertiary bodySmallHeavy')[0].text.strip()"
      ],
      "metadata": {
        "colab": {
          "base_uri": "https://localhost:8080/",
          "height": 35
        },
        "id": "GS4xq1J93EJs",
        "outputId": "3feb7884-100a-4afd-b976-91b18e5c176a"
      },
      "execution_count": null,
      "outputs": [
        {
          "output_type": "execute_result",
          "data": {
            "text/plain": [
              "'Very High Risk'"
            ],
            "application/vnd.google.colaboratory.intrinsic+json": {
              "type": "string"
            }
          },
          "metadata": {},
          "execution_count": 76
        }
      ]
    },
    {
      "cell_type": "code",
      "source": [
        "#type of fund\n",
        "\n",
        "fund[1].find_all ('div',class_='contentSecondary f22Ls2 contentTertiary bodySmallHeavy')[1].text.strip()"
      ],
      "metadata": {
        "colab": {
          "base_uri": "https://localhost:8080/",
          "height": 35
        },
        "id": "9DV-p4cE3EMV",
        "outputId": "42e4ab15-7267-4637-c5c0-7d52f9c0ce35"
      },
      "execution_count": null,
      "outputs": [
        {
          "output_type": "execute_result",
          "data": {
            "text/plain": [
              "'Equity'"
            ],
            "application/vnd.google.colaboratory.intrinsic+json": {
              "type": "string"
            }
          },
          "metadata": {},
          "execution_count": 66
        }
      ]
    },
    {
      "cell_type": "code",
      "source": [
        "#rating\n",
        "\n",
        "fund[6].find_all ('div',class_='contentSecondary f22Ls2 contentTertiary valign-wrapper bodySmallHeavy')[0].text.strip()"
      ],
      "metadata": {
        "colab": {
          "base_uri": "https://localhost:8080/",
          "height": 35
        },
        "id": "lrZv6VvG3ERB",
        "outputId": "b8737d67-bf5b-4050-8bc7-8cca18fb4f9b"
      },
      "execution_count": null,
      "outputs": [
        {
          "output_type": "execute_result",
          "data": {
            "text/plain": [
              "'4'"
            ],
            "application/vnd.google.colaboratory.intrinsic+json": {
              "type": "string"
            }
          },
          "metadata": {},
          "execution_count": 67
        }
      ]
    },
    {
      "cell_type": "code",
      "source": [
        "# 1 year return\n",
        "\n",
        "fund[1].find_all ('div',class_='contentPrimary center-align f22Mb4 bodyBaseHeavy')[2].text.strip()"
      ],
      "metadata": {
        "colab": {
          "base_uri": "https://localhost:8080/",
          "height": 35
        },
        "id": "_KWH1kEdQgvv",
        "outputId": "453b732a-faa5-4626-eec3-8e378b4d8056"
      },
      "execution_count": null,
      "outputs": [
        {
          "output_type": "execute_result",
          "data": {
            "text/plain": [
              "'29.38%'"
            ],
            "application/vnd.google.colaboratory.intrinsic+json": {
              "type": "string"
            }
          },
          "metadata": {},
          "execution_count": 68
        }
      ]
    },
    {
      "cell_type": "code",
      "source": [
        "#Defing the empty list to store\n",
        "\n",
        "fund_name=[]\n",
        "risk=[]\n",
        "fund_type=[]\n",
        "rating=[]\n",
        "oneyear = []\n",
        "threeyear=[]\n",
        "fiveyear=[]\n",
        "all_data = []"
      ],
      "metadata": {
        "id": "gHkjz9R_20vG"
      },
      "execution_count": null,
      "outputs": []
    },
    {
      "cell_type": "markdown",
      "source": [
        "#function to extract information from fund, doing try except cause many funds may not have risk rating or 3 year return if new\n"
      ],
      "metadata": {
        "id": "RdGuNADLPVjl"
      }
    },
    {
      "cell_type": "code",
      "source": [
        "\n",
        "def fund_details(fund):\n",
        "\n",
        "      i = fund\n",
        "\n",
        "  #for i in fund:\n",
        "\n",
        "      fund_name=[]\n",
        "      risk=[]\n",
        "      fund_type=[]\n",
        "      rating=[]\n",
        "      oneyear = []\n",
        "      threeyear=[]\n",
        "      fiveyear=[]\n",
        "\n",
        "      try:\n",
        "          fund_name.append(i.find('div',class_='contentPrimary').text.strip())\n",
        "      except:\n",
        "          fund_name.append(np.nan)\n",
        "      try:\n",
        "          risk.append(i.find_all ('div',class_='contentSecondary f22Ls2 contentTertiary bodySmallHeavy')[0].text.strip())\n",
        "      except:\n",
        "          risk.append(np.nan)\n",
        "\n",
        "      try:\n",
        "        fund_type.append(i.find_all ('div',class_='contentSecondary f22Ls2 contentTertiary bodySmallHeavy')[1].text.strip())\n",
        "      except:\n",
        "          fund_type.append(np.nan)\n",
        "\n",
        "      try:\n",
        "          rating.append(i.find_all('div',class_='contentSecondary f22Ls2 contentTertiary valign-wrapper bodySmallHeavy')[0].text.strip())\n",
        "      except:\n",
        "          rating.append(np.nan)\n",
        "      try:\n",
        "          oneyear.append(i.find_all ('div',class_='contentPrimary center-align f22Mb4 bodyBaseHeavy')[0].text.strip())\n",
        "      except:\n",
        "          oneyear.append(np.nan)\n",
        "\n",
        "      try:\n",
        "          threeyear.append(i.find_all ('div',class_='contentPrimary center-align f22Mb4 bodyBaseHeavy')[1].text.strip())\n",
        "      except:\n",
        "          threeyear.append(np.nan)\n",
        "\n",
        "      try:\n",
        "          fiveyear.append(i.find_all ('div',class_='contentPrimary center-align f22Mb4 bodyBaseHeavy')[2].text.strip())\n",
        "      except:\n",
        "          fiveyear.append(np.nan)\n",
        "\n",
        "      df = pd.DataFrame({'fund_name':fund_name,'risk':risk,'fund_type':fund_type,'rating':rating,'oneyear':oneyear,'threeyear':threeyear,'fiveyear':fiveyear})\n",
        "\n",
        "      return(df)"
      ],
      "metadata": {
        "id": "repTDBhmX7lX"
      },
      "execution_count": null,
      "outputs": []
    },
    {
      "cell_type": "markdown",
      "source": [
        "## Running loop for 101 web page, and internal loop for scrapping fund details"
      ],
      "metadata": {
        "id": "J5MRvBCiPgVe"
      }
    },
    {
      "cell_type": "code",
      "source": [
        "for j in range(1,101):\n",
        "    webpage=requests.get('https://groww.in/mutual-funds/filter?q=&fundSize=&sortBy=3&page={}'.format(j)).text\n",
        "    soup=BeautifulSoup(webpage,'lxml')\n",
        "    fund = soup.find_all('tr',class_='f22Card')\n",
        "\n",
        "    for i in range(len(fund)):\n",
        "        all_data.append(fund_details(fund[i]))"
      ],
      "metadata": {
        "id": "cbspg42hSEMX"
      },
      "execution_count": null,
      "outputs": []
    },
    {
      "cell_type": "code",
      "source": [
        "final = pd.concat(all_data, ignore_index=True)"
      ],
      "metadata": {
        "id": "7h2bmDqeYBgw"
      },
      "execution_count": null,
      "outputs": []
    },
    {
      "cell_type": "code",
      "source": [
        "final"
      ],
      "metadata": {
        "colab": {
          "base_uri": "https://localhost:8080/",
          "height": 597
        },
        "id": "iif2QhhMSEPG",
        "outputId": "729252be-5be1-404b-900e-ac851f6d41e3"
      },
      "execution_count": null,
      "outputs": [
        {
          "output_type": "execute_result",
          "data": {
            "text/plain": [
              "                                              fund_name            risk  \\\n",
              "0               Motilal Oswal Midcap Fund Direct Growth  Very High Risk   \n",
              "1             Parag Parikh Flexi Cap Fund Direct Growth  Very High Risk   \n",
              "2                     HDFC Flexi Cap Direct Plan Growth  Very High Risk   \n",
              "3                            SBI PSU Direct Plan Growth  Very High Risk   \n",
              "4               Quant Small Cap Fund Direct Plan Growth  Very High Risk   \n",
              "...                                                 ...             ...   \n",
              "1495        Invesco India PSU Equity Fund Direct Growth  Very High Risk   \n",
              "1496  Motilal Oswal Nifty India Defence Index Fund D...  Very High Risk   \n",
              "1497                Tata Small Cap Fund Direct   Growth  Very High Risk   \n",
              "1498                JM Flexicap Fund Direct Plan Growth  Very High Risk   \n",
              "1499      HDFC Mid Cap Opportunities Fund Direct Growth  Very High Risk   \n",
              "\n",
              "     fund_type rating oneyear threeyear fiveyear  \n",
              "0       Equity      5  20.44%    33.92%   39.87%  \n",
              "1       Equity      5  16.01%    23.73%   29.38%  \n",
              "2       Equity      5  17.76%    28.11%   33.22%  \n",
              "3       Equity    NaN   1.86%    36.84%   34.35%  \n",
              "4       Equity      5   1.87%    30.20%   50.90%  \n",
              "...        ...    ...     ...       ...      ...  \n",
              "1495    Equity    NaN   5.47%    37.91%   33.46%  \n",
              "1496    Equity    NaN      NA        NA       NA  \n",
              "1497    Equity      5   6.77%    25.96%   38.40%  \n",
              "1498    Equity      5   5.17%    29.51%   30.81%  \n",
              "1499    Equity      5  13.59%    31.15%   35.56%  \n",
              "\n",
              "[1500 rows x 7 columns]"
            ],
            "text/html": [
              "\n",
              "  <div id=\"df-85babc6f-defc-4425-90b6-e8248d167b24\" class=\"colab-df-container\">\n",
              "    <div>\n",
              "<style scoped>\n",
              "    .dataframe tbody tr th:only-of-type {\n",
              "        vertical-align: middle;\n",
              "    }\n",
              "\n",
              "    .dataframe tbody tr th {\n",
              "        vertical-align: top;\n",
              "    }\n",
              "\n",
              "    .dataframe thead th {\n",
              "        text-align: right;\n",
              "    }\n",
              "</style>\n",
              "<table border=\"1\" class=\"dataframe\">\n",
              "  <thead>\n",
              "    <tr style=\"text-align: right;\">\n",
              "      <th></th>\n",
              "      <th>fund_name</th>\n",
              "      <th>risk</th>\n",
              "      <th>fund_type</th>\n",
              "      <th>rating</th>\n",
              "      <th>oneyear</th>\n",
              "      <th>threeyear</th>\n",
              "      <th>fiveyear</th>\n",
              "    </tr>\n",
              "  </thead>\n",
              "  <tbody>\n",
              "    <tr>\n",
              "      <th>0</th>\n",
              "      <td>Motilal Oswal Midcap Fund Direct Growth</td>\n",
              "      <td>Very High Risk</td>\n",
              "      <td>Equity</td>\n",
              "      <td>5</td>\n",
              "      <td>20.44%</td>\n",
              "      <td>33.92%</td>\n",
              "      <td>39.87%</td>\n",
              "    </tr>\n",
              "    <tr>\n",
              "      <th>1</th>\n",
              "      <td>Parag Parikh Flexi Cap Fund Direct Growth</td>\n",
              "      <td>Very High Risk</td>\n",
              "      <td>Equity</td>\n",
              "      <td>5</td>\n",
              "      <td>16.01%</td>\n",
              "      <td>23.73%</td>\n",
              "      <td>29.38%</td>\n",
              "    </tr>\n",
              "    <tr>\n",
              "      <th>2</th>\n",
              "      <td>HDFC Flexi Cap Direct Plan Growth</td>\n",
              "      <td>Very High Risk</td>\n",
              "      <td>Equity</td>\n",
              "      <td>5</td>\n",
              "      <td>17.76%</td>\n",
              "      <td>28.11%</td>\n",
              "      <td>33.22%</td>\n",
              "    </tr>\n",
              "    <tr>\n",
              "      <th>3</th>\n",
              "      <td>SBI PSU Direct Plan Growth</td>\n",
              "      <td>Very High Risk</td>\n",
              "      <td>Equity</td>\n",
              "      <td>NaN</td>\n",
              "      <td>1.86%</td>\n",
              "      <td>36.84%</td>\n",
              "      <td>34.35%</td>\n",
              "    </tr>\n",
              "    <tr>\n",
              "      <th>4</th>\n",
              "      <td>Quant Small Cap Fund Direct Plan Growth</td>\n",
              "      <td>Very High Risk</td>\n",
              "      <td>Equity</td>\n",
              "      <td>5</td>\n",
              "      <td>1.87%</td>\n",
              "      <td>30.20%</td>\n",
              "      <td>50.90%</td>\n",
              "    </tr>\n",
              "    <tr>\n",
              "      <th>...</th>\n",
              "      <td>...</td>\n",
              "      <td>...</td>\n",
              "      <td>...</td>\n",
              "      <td>...</td>\n",
              "      <td>...</td>\n",
              "      <td>...</td>\n",
              "      <td>...</td>\n",
              "    </tr>\n",
              "    <tr>\n",
              "      <th>1495</th>\n",
              "      <td>Invesco India PSU Equity Fund Direct Growth</td>\n",
              "      <td>Very High Risk</td>\n",
              "      <td>Equity</td>\n",
              "      <td>NaN</td>\n",
              "      <td>5.47%</td>\n",
              "      <td>37.91%</td>\n",
              "      <td>33.46%</td>\n",
              "    </tr>\n",
              "    <tr>\n",
              "      <th>1496</th>\n",
              "      <td>Motilal Oswal Nifty India Defence Index Fund D...</td>\n",
              "      <td>Very High Risk</td>\n",
              "      <td>Equity</td>\n",
              "      <td>NaN</td>\n",
              "      <td>NA</td>\n",
              "      <td>NA</td>\n",
              "      <td>NA</td>\n",
              "    </tr>\n",
              "    <tr>\n",
              "      <th>1497</th>\n",
              "      <td>Tata Small Cap Fund Direct   Growth</td>\n",
              "      <td>Very High Risk</td>\n",
              "      <td>Equity</td>\n",
              "      <td>5</td>\n",
              "      <td>6.77%</td>\n",
              "      <td>25.96%</td>\n",
              "      <td>38.40%</td>\n",
              "    </tr>\n",
              "    <tr>\n",
              "      <th>1498</th>\n",
              "      <td>JM Flexicap Fund Direct Plan Growth</td>\n",
              "      <td>Very High Risk</td>\n",
              "      <td>Equity</td>\n",
              "      <td>5</td>\n",
              "      <td>5.17%</td>\n",
              "      <td>29.51%</td>\n",
              "      <td>30.81%</td>\n",
              "    </tr>\n",
              "    <tr>\n",
              "      <th>1499</th>\n",
              "      <td>HDFC Mid Cap Opportunities Fund Direct Growth</td>\n",
              "      <td>Very High Risk</td>\n",
              "      <td>Equity</td>\n",
              "      <td>5</td>\n",
              "      <td>13.59%</td>\n",
              "      <td>31.15%</td>\n",
              "      <td>35.56%</td>\n",
              "    </tr>\n",
              "  </tbody>\n",
              "</table>\n",
              "<p>1500 rows × 7 columns</p>\n",
              "</div>\n",
              "    <div class=\"colab-df-buttons\">\n",
              "\n",
              "  <div class=\"colab-df-container\">\n",
              "    <button class=\"colab-df-convert\" onclick=\"convertToInteractive('df-85babc6f-defc-4425-90b6-e8248d167b24')\"\n",
              "            title=\"Convert this dataframe to an interactive table.\"\n",
              "            style=\"display:none;\">\n",
              "\n",
              "  <svg xmlns=\"http://www.w3.org/2000/svg\" height=\"24px\" viewBox=\"0 -960 960 960\">\n",
              "    <path d=\"M120-120v-720h720v720H120Zm60-500h600v-160H180v160Zm220 220h160v-160H400v160Zm0 220h160v-160H400v160ZM180-400h160v-160H180v160Zm440 0h160v-160H620v160ZM180-180h160v-160H180v160Zm440 0h160v-160H620v160Z\"/>\n",
              "  </svg>\n",
              "    </button>\n",
              "\n",
              "  <style>\n",
              "    .colab-df-container {\n",
              "      display:flex;\n",
              "      gap: 12px;\n",
              "    }\n",
              "\n",
              "    .colab-df-convert {\n",
              "      background-color: #E8F0FE;\n",
              "      border: none;\n",
              "      border-radius: 50%;\n",
              "      cursor: pointer;\n",
              "      display: none;\n",
              "      fill: #1967D2;\n",
              "      height: 32px;\n",
              "      padding: 0 0 0 0;\n",
              "      width: 32px;\n",
              "    }\n",
              "\n",
              "    .colab-df-convert:hover {\n",
              "      background-color: #E2EBFA;\n",
              "      box-shadow: 0px 1px 2px rgba(60, 64, 67, 0.3), 0px 1px 3px 1px rgba(60, 64, 67, 0.15);\n",
              "      fill: #174EA6;\n",
              "    }\n",
              "\n",
              "    .colab-df-buttons div {\n",
              "      margin-bottom: 4px;\n",
              "    }\n",
              "\n",
              "    [theme=dark] .colab-df-convert {\n",
              "      background-color: #3B4455;\n",
              "      fill: #D2E3FC;\n",
              "    }\n",
              "\n",
              "    [theme=dark] .colab-df-convert:hover {\n",
              "      background-color: #434B5C;\n",
              "      box-shadow: 0px 1px 3px 1px rgba(0, 0, 0, 0.15);\n",
              "      filter: drop-shadow(0px 1px 2px rgba(0, 0, 0, 0.3));\n",
              "      fill: #FFFFFF;\n",
              "    }\n",
              "  </style>\n",
              "\n",
              "    <script>\n",
              "      const buttonEl =\n",
              "        document.querySelector('#df-85babc6f-defc-4425-90b6-e8248d167b24 button.colab-df-convert');\n",
              "      buttonEl.style.display =\n",
              "        google.colab.kernel.accessAllowed ? 'block' : 'none';\n",
              "\n",
              "      async function convertToInteractive(key) {\n",
              "        const element = document.querySelector('#df-85babc6f-defc-4425-90b6-e8248d167b24');\n",
              "        const dataTable =\n",
              "          await google.colab.kernel.invokeFunction('convertToInteractive',\n",
              "                                                    [key], {});\n",
              "        if (!dataTable) return;\n",
              "\n",
              "        const docLinkHtml = 'Like what you see? Visit the ' +\n",
              "          '<a target=\"_blank\" href=https://colab.research.google.com/notebooks/data_table.ipynb>data table notebook</a>'\n",
              "          + ' to learn more about interactive tables.';\n",
              "        element.innerHTML = '';\n",
              "        dataTable['output_type'] = 'display_data';\n",
              "        await google.colab.output.renderOutput(dataTable, element);\n",
              "        const docLink = document.createElement('div');\n",
              "        docLink.innerHTML = docLinkHtml;\n",
              "        element.appendChild(docLink);\n",
              "      }\n",
              "    </script>\n",
              "  </div>\n",
              "\n",
              "\n",
              "    <div id=\"df-bab0af27-1842-457c-9492-89a901a35033\">\n",
              "      <button class=\"colab-df-quickchart\" onclick=\"quickchart('df-bab0af27-1842-457c-9492-89a901a35033')\"\n",
              "                title=\"Suggest charts\"\n",
              "                style=\"display:none;\">\n",
              "\n",
              "<svg xmlns=\"http://www.w3.org/2000/svg\" height=\"24px\"viewBox=\"0 0 24 24\"\n",
              "     width=\"24px\">\n",
              "    <g>\n",
              "        <path d=\"M19 3H5c-1.1 0-2 .9-2 2v14c0 1.1.9 2 2 2h14c1.1 0 2-.9 2-2V5c0-1.1-.9-2-2-2zM9 17H7v-7h2v7zm4 0h-2V7h2v10zm4 0h-2v-4h2v4z\"/>\n",
              "    </g>\n",
              "</svg>\n",
              "      </button>\n",
              "\n",
              "<style>\n",
              "  .colab-df-quickchart {\n",
              "      --bg-color: #E8F0FE;\n",
              "      --fill-color: #1967D2;\n",
              "      --hover-bg-color: #E2EBFA;\n",
              "      --hover-fill-color: #174EA6;\n",
              "      --disabled-fill-color: #AAA;\n",
              "      --disabled-bg-color: #DDD;\n",
              "  }\n",
              "\n",
              "  [theme=dark] .colab-df-quickchart {\n",
              "      --bg-color: #3B4455;\n",
              "      --fill-color: #D2E3FC;\n",
              "      --hover-bg-color: #434B5C;\n",
              "      --hover-fill-color: #FFFFFF;\n",
              "      --disabled-bg-color: #3B4455;\n",
              "      --disabled-fill-color: #666;\n",
              "  }\n",
              "\n",
              "  .colab-df-quickchart {\n",
              "    background-color: var(--bg-color);\n",
              "    border: none;\n",
              "    border-radius: 50%;\n",
              "    cursor: pointer;\n",
              "    display: none;\n",
              "    fill: var(--fill-color);\n",
              "    height: 32px;\n",
              "    padding: 0;\n",
              "    width: 32px;\n",
              "  }\n",
              "\n",
              "  .colab-df-quickchart:hover {\n",
              "    background-color: var(--hover-bg-color);\n",
              "    box-shadow: 0 1px 2px rgba(60, 64, 67, 0.3), 0 1px 3px 1px rgba(60, 64, 67, 0.15);\n",
              "    fill: var(--button-hover-fill-color);\n",
              "  }\n",
              "\n",
              "  .colab-df-quickchart-complete:disabled,\n",
              "  .colab-df-quickchart-complete:disabled:hover {\n",
              "    background-color: var(--disabled-bg-color);\n",
              "    fill: var(--disabled-fill-color);\n",
              "    box-shadow: none;\n",
              "  }\n",
              "\n",
              "  .colab-df-spinner {\n",
              "    border: 2px solid var(--fill-color);\n",
              "    border-color: transparent;\n",
              "    border-bottom-color: var(--fill-color);\n",
              "    animation:\n",
              "      spin 1s steps(1) infinite;\n",
              "  }\n",
              "\n",
              "  @keyframes spin {\n",
              "    0% {\n",
              "      border-color: transparent;\n",
              "      border-bottom-color: var(--fill-color);\n",
              "      border-left-color: var(--fill-color);\n",
              "    }\n",
              "    20% {\n",
              "      border-color: transparent;\n",
              "      border-left-color: var(--fill-color);\n",
              "      border-top-color: var(--fill-color);\n",
              "    }\n",
              "    30% {\n",
              "      border-color: transparent;\n",
              "      border-left-color: var(--fill-color);\n",
              "      border-top-color: var(--fill-color);\n",
              "      border-right-color: var(--fill-color);\n",
              "    }\n",
              "    40% {\n",
              "      border-color: transparent;\n",
              "      border-right-color: var(--fill-color);\n",
              "      border-top-color: var(--fill-color);\n",
              "    }\n",
              "    60% {\n",
              "      border-color: transparent;\n",
              "      border-right-color: var(--fill-color);\n",
              "    }\n",
              "    80% {\n",
              "      border-color: transparent;\n",
              "      border-right-color: var(--fill-color);\n",
              "      border-bottom-color: var(--fill-color);\n",
              "    }\n",
              "    90% {\n",
              "      border-color: transparent;\n",
              "      border-bottom-color: var(--fill-color);\n",
              "    }\n",
              "  }\n",
              "</style>\n",
              "\n",
              "      <script>\n",
              "        async function quickchart(key) {\n",
              "          const quickchartButtonEl =\n",
              "            document.querySelector('#' + key + ' button');\n",
              "          quickchartButtonEl.disabled = true;  // To prevent multiple clicks.\n",
              "          quickchartButtonEl.classList.add('colab-df-spinner');\n",
              "          try {\n",
              "            const charts = await google.colab.kernel.invokeFunction(\n",
              "                'suggestCharts', [key], {});\n",
              "          } catch (error) {\n",
              "            console.error('Error during call to suggestCharts:', error);\n",
              "          }\n",
              "          quickchartButtonEl.classList.remove('colab-df-spinner');\n",
              "          quickchartButtonEl.classList.add('colab-df-quickchart-complete');\n",
              "        }\n",
              "        (() => {\n",
              "          let quickchartButtonEl =\n",
              "            document.querySelector('#df-bab0af27-1842-457c-9492-89a901a35033 button');\n",
              "          quickchartButtonEl.style.display =\n",
              "            google.colab.kernel.accessAllowed ? 'block' : 'none';\n",
              "        })();\n",
              "      </script>\n",
              "    </div>\n",
              "\n",
              "  <div id=\"id_88e50ef4-b2e1-4cb5-86f2-b750c5fad8a7\">\n",
              "    <style>\n",
              "      .colab-df-generate {\n",
              "        background-color: #E8F0FE;\n",
              "        border: none;\n",
              "        border-radius: 50%;\n",
              "        cursor: pointer;\n",
              "        display: none;\n",
              "        fill: #1967D2;\n",
              "        height: 32px;\n",
              "        padding: 0 0 0 0;\n",
              "        width: 32px;\n",
              "      }\n",
              "\n",
              "      .colab-df-generate:hover {\n",
              "        background-color: #E2EBFA;\n",
              "        box-shadow: 0px 1px 2px rgba(60, 64, 67, 0.3), 0px 1px 3px 1px rgba(60, 64, 67, 0.15);\n",
              "        fill: #174EA6;\n",
              "      }\n",
              "\n",
              "      [theme=dark] .colab-df-generate {\n",
              "        background-color: #3B4455;\n",
              "        fill: #D2E3FC;\n",
              "      }\n",
              "\n",
              "      [theme=dark] .colab-df-generate:hover {\n",
              "        background-color: #434B5C;\n",
              "        box-shadow: 0px 1px 3px 1px rgba(0, 0, 0, 0.15);\n",
              "        filter: drop-shadow(0px 1px 2px rgba(0, 0, 0, 0.3));\n",
              "        fill: #FFFFFF;\n",
              "      }\n",
              "    </style>\n",
              "    <button class=\"colab-df-generate\" onclick=\"generateWithVariable('final')\"\n",
              "            title=\"Generate code using this dataframe.\"\n",
              "            style=\"display:none;\">\n",
              "\n",
              "  <svg xmlns=\"http://www.w3.org/2000/svg\" height=\"24px\"viewBox=\"0 0 24 24\"\n",
              "       width=\"24px\">\n",
              "    <path d=\"M7,19H8.4L18.45,9,17,7.55,7,17.6ZM5,21V16.75L18.45,3.32a2,2,0,0,1,2.83,0l1.4,1.43a1.91,1.91,0,0,1,.58,1.4,1.91,1.91,0,0,1-.58,1.4L9.25,21ZM18.45,9,17,7.55Zm-12,3A5.31,5.31,0,0,0,4.9,8.1,5.31,5.31,0,0,0,1,6.5,5.31,5.31,0,0,0,4.9,4.9,5.31,5.31,0,0,0,6.5,1,5.31,5.31,0,0,0,8.1,4.9,5.31,5.31,0,0,0,12,6.5,5.46,5.46,0,0,0,6.5,12Z\"/>\n",
              "  </svg>\n",
              "    </button>\n",
              "    <script>\n",
              "      (() => {\n",
              "      const buttonEl =\n",
              "        document.querySelector('#id_88e50ef4-b2e1-4cb5-86f2-b750c5fad8a7 button.colab-df-generate');\n",
              "      buttonEl.style.display =\n",
              "        google.colab.kernel.accessAllowed ? 'block' : 'none';\n",
              "\n",
              "      buttonEl.onclick = () => {\n",
              "        google.colab.notebook.generateWithVariable('final');\n",
              "      }\n",
              "      })();\n",
              "    </script>\n",
              "  </div>\n",
              "\n",
              "    </div>\n",
              "  </div>\n"
            ],
            "application/vnd.google.colaboratory.intrinsic+json": {
              "type": "dataframe",
              "variable_name": "final",
              "summary": "{\n  \"name\": \"final\",\n  \"rows\": 1500,\n  \"fields\": [\n    {\n      \"column\": \"fund_name\",\n      \"properties\": {\n        \"dtype\": \"category\",\n        \"num_unique_values\": 15,\n        \"samples\": [\n          \"Bandhan Small Cap Fund Direct Growth\",\n          \"Motilal Oswal Nifty India Defence Index Fund Direct Growth\",\n          \"Motilal Oswal Midcap Fund Direct Growth\"\n        ],\n        \"semantic_type\": \"\",\n        \"description\": \"\"\n      }\n    },\n    {\n      \"column\": \"risk\",\n      \"properties\": {\n        \"dtype\": \"category\",\n        \"num_unique_values\": 1,\n        \"samples\": [\n          \"Very High Risk\"\n        ],\n        \"semantic_type\": \"\",\n        \"description\": \"\"\n      }\n    },\n    {\n      \"column\": \"fund_type\",\n      \"properties\": {\n        \"dtype\": \"category\",\n        \"num_unique_values\": 2,\n        \"samples\": [\n          \"Commodities\"\n        ],\n        \"semantic_type\": \"\",\n        \"description\": \"\"\n      }\n    },\n    {\n      \"column\": \"rating\",\n      \"properties\": {\n        \"dtype\": \"category\",\n        \"num_unique_values\": 2,\n        \"samples\": [\n          \"4\"\n        ],\n        \"semantic_type\": \"\",\n        \"description\": \"\"\n      }\n    },\n    {\n      \"column\": \"oneyear\",\n      \"properties\": {\n        \"dtype\": \"category\",\n        \"num_unique_values\": 15,\n        \"samples\": [\n          \"19.34%\"\n        ],\n        \"semantic_type\": \"\",\n        \"description\": \"\"\n      }\n    },\n    {\n      \"column\": \"threeyear\",\n      \"properties\": {\n        \"dtype\": \"category\",\n        \"num_unique_values\": 15,\n        \"samples\": [\n          \"33.82%\"\n        ],\n        \"semantic_type\": \"\",\n        \"description\": \"\"\n      }\n    },\n    {\n      \"column\": \"fiveyear\",\n      \"properties\": {\n        \"dtype\": \"category\",\n        \"num_unique_values\": 15,\n        \"samples\": [\n          \"39.72%\"\n        ],\n        \"semantic_type\": \"\",\n        \"description\": \"\"\n      }\n    }\n  ]\n}"
            }
          },
          "metadata": {},
          "execution_count": 73
        }
      ]
    },
    {
      "cell_type": "code",
      "source": [
        "final.to_csv('fund_details.csv')"
      ],
      "metadata": {
        "id": "-qRxbrrJOktR"
      },
      "execution_count": null,
      "outputs": []
    }
  ]
}